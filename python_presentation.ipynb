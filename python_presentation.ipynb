{
 "cells": [
  {
   "cell_type": "markdown",
   "metadata": {
    "slideshow": {
     "slide_type": "notes"
    }
   },
   "source": [
    "Code to run:\n",
    "jupyter nbconvert --to slides --post serve python_presentation.ipynb"
   ]
  },
  {
   "cell_type": "markdown",
   "metadata": {
    "slideshow": {
     "slide_type": "slide"
    }
   },
   "source": [
    "# The Power of Automation using Python\n",
    "*Ben Kawecki*\n",
    "\n",
    "*INSERT DATE HERE*\n",
    "\n",
    "<link rel = \"stylesheet\" href = \"custom.css\" />"
   ]
  },
  {
   "cell_type": "markdown",
   "metadata": {
    "slideshow": {
     "slide_type": "slide"
    }
   },
   "source": [
    "# Why Automation?\n",
    "Humans are NOT good at repetitive tasks, we are prone to making errors and on top of that it is very BORING. \n",
    "\n",
    "Computers, on the other hand, are extemely (if not exclusively) good at repetitive tasks. Their problem is that they are (sadly) unable to do our jobs for us unless we tell them exactly what we want done.\n",
    "\n",
    "So how do you get a computer do handle this task for you? "
   ]
  },
  {
   "cell_type": "markdown",
   "metadata": {
    "slideshow": {
     "slide_type": "subslide"
    }
   },
   "source": [
    "# Wait, I can't program! blah\n",
    "* I'm not going to understand any of this\n",
    "* I tried to learn programming in the past and it went way over my head\n",
    "* Programing is too hard\n",
    "\n",
    "Programming is HARD; however, its come a long way in the past years and the barriers to entry are now much much lower than they used to be. There are so many more resources:\n",
    "\n",
    "* Youtube\n",
    "* Creative Commons Books\n",
    "* Q/A forums (stackoverflow)\n",
    "* Google \n",
    "\n",
    "The goal of this is **not to make you into a programmer**, but to show you what you can do with a couple lines of code and how introducing some programming into your work flow can make you much **better or more efficient and what you are already doing**. \n"
   ]
  },
  {
   "cell_type": "markdown",
   "metadata": {
    "slideshow": {
     "slide_type": "slide"
    }
   },
   "source": [
    "# Why Python?\n",
    "Python is extremely accessible to beginers:\n",
    "* Python is extremely readable\n",
    "* Huge community\n",
    "* Runs with minimal boiler plate code\n",
    "\n",
    "Python is easy to use:\n",
    "* Python is open-source\n",
    "* Large amount of 3rd party packages\n",
    "* Alot of reference material for the begginer-intermeadiate level\n",
    "\n",
    "Python can still handle advanced programming tasks:\n",
    "* Python support Object Oriented Programming (OOP), Functional Programming and Proceedural Programming\n",
    "* Optimized Python runs almost as fast as C/C++\n",
    "* Python is used as the backend for Youtube, Instagram and Reddit"
   ]
  },
  {
   "cell_type": "markdown",
   "metadata": {
    "slideshow": {
     "slide_type": "subslide"
    }
   },
   "source": [
    "# Comparison of Python and C\n",
    "Python\n",
    "```python\n",
    "print('Hello World')\n",
    "```\n",
    "C\n",
    "```C\n",
    "#include <stdio.h>\n",
    "int main()\n",
    "{\n",
    "   printf(\"Hello, World!\");\n",
    "   return 0;\n",
    "}\n",
    "```\n"
   ]
  },
  {
   "cell_type": "markdown",
   "metadata": {
    "slideshow": {
     "slide_type": "subslide"
    }
   },
   "source": [
    "# Comparison of Python and C (cont)\n",
    "Approximate area under the curve\n",
    "```python\n",
    "import math\n",
    "n = 100; a = 0.0; b = 1.0\n",
    "h = (b-a)/n\n",
    "area = 0.5*h*( math.exp(-a**2) + math.exp(-b**2) )\n",
    "for i in range(1,n):\n",
    "    x = a+i*h\n",
    "    area = area + h*math.exp(-x**2)\n",
    "print(\"The value of the approximation is\", area)\n",
    "```\n",
    "<br>\n",
    "```C\n",
    "#include<stdio.h>\n",
    "#include<math.h>\n",
    "int main( void ) {\n",
    "    int n = 100; double a = 0.0; double b = 1.0;\n",
    "    int i;\n",
    "    double h = (b - a) / (double) n;\n",
    "    double area = h*0.5*( exp( -a*a ) + exp( -b*b ) );\n",
    "    double x;\n",
    "    \n",
    "    for (i=1; i<n; i++) {\n",
    "        x = a + i*h;\n",
    "        area = area + h*exp( -x*x );\n",
    "    }\n",
    "    printf(\"The value of the approximation is %f\\n\", area);\n",
    "    return 0;\n",
    "}\n",
    "```"
   ]
  },
  {
   "cell_type": "markdown",
   "metadata": {
    "slideshow": {
     "slide_type": "slide"
    }
   },
   "source": [
    "# Python basics - installing and getting python to run on MTSI computers\n",
    "\n",
    "SEE installation guide that I write at some point"
   ]
  },
  {
   "cell_type": "markdown",
   "metadata": {
    "slideshow": {
     "slide_type": "slide"
    }
   },
   "source": [
    "# The Senario:\n",
    "Its Friday Afternoon at 1400 and you get an outlook notification...\n",
    "\n",
    "\"\"\"\n",
    "\n",
    "To: MTSI Employee <br>\n",
    "\n",
    "From: Important Customer <br>\n",
    "\n",
    "Subj: URGENT!! Need help\n",
    "\n",
    "Dear Blah,\n",
    "\n",
    "We have to brief up to our Bosses by the end of the day, see if you can process this dataset by COB today!\n",
    "\n",
    "Thanks,\n",
    "Blah\n",
    "\n",
    "\"\"\"\n"
   ]
  },
  {
   "cell_type": "markdown",
   "metadata": {
    "slideshow": {
     "slide_type": "subslide"
    }
   },
   "source": [
    "# Attachment:\n",
    "\n",
    "\n",
    "**TABLE WITH DATA**"
   ]
  },
  {
   "cell_type": "markdown",
   "metadata": {},
   "source": [
    "# How to process the data\n",
    "Look something up on web\n",
    "\n",
    "Some math\n",
    "\n",
    "General sorting"
   ]
  },
  {
   "cell_type": "code",
   "execution_count": 1,
   "metadata": {
    "slideshow": {
     "slide_type": "slide"
    }
   },
   "outputs": [],
   "source": [
    "# Python basics\n",
    "# Lists\n",
    "# recursion\n",
    "# "
   ]
  },
  {
   "cell_type": "markdown",
   "metadata": {
    "slideshow": {
     "slide_type": "slide"
    }
   },
   "source": [
    "# Data types\n",
    "Numbers (integers/floating-point numbers)\n",
    "Strings\n",
    "Booleans\n",
    "None"
   ]
  },
  {
   "cell_type": "code",
   "execution_count": 2,
   "metadata": {
    "slideshow": {
     "slide_type": "slide"
    }
   },
   "outputs": [
    {
     "data": {
      "text/plain": [
       "15"
      ]
     },
     "metadata": {},
     "output_type": "display_data"
    },
    {
     "data": {
      "text/plain": [
       "123841273649878789876"
      ]
     },
     "metadata": {},
     "output_type": "display_data"
    },
    {
     "data": {
      "text/plain": [
       "'Hello'"
      ]
     },
     "metadata": {},
     "output_type": "display_data"
    }
   ],
   "source": [
    "# variables\n",
    "a = 10\n",
    "b = 5\n",
    "c = a + b\n",
    "display(c)\n",
    "\n",
    "c = 123841273649878789876\n",
    "display(c)\n",
    "\n",
    "c = 'Hello'\n",
    "display(c)\n",
    "\n",
    "im_a_very_long_variable_name = 'Hello'\n",
    "\n"
   ]
  },
  {
   "cell_type": "code",
   "execution_count": 3,
   "metadata": {
    "slideshow": {
     "slide_type": "slide"
    }
   },
   "outputs": [],
   "source": [
    "# lists\n",
    "\n",
    "fib_num_1 = 1\n",
    "fib_num_2 = 1\n",
    "fib_num_3 = 2\n",
    "fib_num_4 = 3\n",
    "fib_num_5 = 5"
   ]
  },
  {
   "cell_type": "code",
   "execution_count": 4,
   "metadata": {},
   "outputs": [
    {
     "data": {
      "text/plain": [
       "[1, 1, 2, 3, 5]"
      ]
     },
     "metadata": {},
     "output_type": "display_data"
    }
   ],
   "source": [
    "# this seems really ineficient...\n",
    "fib_num = [1, 1, 2, 3, 5]\n",
    "display(fib_num)"
   ]
  },
  {
   "cell_type": "code",
   "execution_count": 5,
   "metadata": {
    "slideshow": {
     "slide_type": "slide"
    }
   },
   "outputs": [],
   "source": [
    "# conditionals"
   ]
  },
  {
   "cell_type": "code",
   "execution_count": 6,
   "metadata": {
    "slideshow": {
     "slide_type": "slide"
    }
   },
   "outputs": [],
   "source": [
    "# iteration"
   ]
  },
  {
   "cell_type": "markdown",
   "metadata": {
    "slideshow": {
     "slide_type": "slide"
    }
   },
   "source": [
    "# Functions\n",
    "Functions define behavior that is meant to be repeated. They are effective when created some behavior or action that occurs multiple times across"
   ]
  },
  {
   "cell_type": "code",
   "execution_count": 21,
   "metadata": {
    "slideshow": {
     "slide_type": "fragment"
    }
   },
   "outputs": [],
   "source": [
    "# creating a function\n",
    "def square(x):\n",
    "    return x ** 2"
   ]
  },
  {
   "cell_type": "code",
   "execution_count": 22,
   "metadata": {
    "slideshow": {
     "slide_type": "fragment"
    }
   },
   "outputs": [
    {
     "name": "stdout",
     "output_type": "stream",
     "text": [
      "11 squared is: 121\n"
     ]
    }
   ],
   "source": [
    "# calling a fucntion\n",
    "squared = square(11)\n",
    "print('11 squared is:', squared)"
   ]
  },
  {
   "cell_type": "code",
   "execution_count": 23,
   "metadata": {
    "slideshow": {
     "slide_type": "fragment"
    }
   },
   "outputs": [
    {
     "name": "stdout",
     "output_type": "stream",
     "text": [
      "Square from 0-9:\n",
      "0\n",
      "1\n",
      "4\n",
      "9\n",
      "16\n",
      "25\n",
      "36\n",
      "49\n",
      "64\n",
      "81\n"
     ]
    }
   ],
   "source": [
    "# calling a function multiples times\n",
    "print('Square from 0-9:')\n",
    "for i in range(10):\n",
    "    print(square(i))"
   ]
  },
  {
   "cell_type": "code",
   "execution_count": 15,
   "metadata": {
    "slideshow": {
     "slide_type": "subslide"
    }
   },
   "outputs": [
    {
     "name": "stdout",
     "output_type": "stream",
     "text": [
      "fib: [1, 1, 2, 3, 5]\n",
      "None\n",
      "fib: [1, 1, 2, 3, 5, 0]\n"
     ]
    }
   ],
   "source": [
    "def append_0(my_list):\n",
    "    my_list.append(0)\n",
    "    \n",
    "fib = [1,1,2,3,5]\n",
    "print('fib:',fib)\n",
    "\n",
    "print(append_0(fib))\n",
    "print('fib:',fib)"
   ]
  },
  {
   "cell_type": "code",
   "execution_count": 8,
   "metadata": {},
   "outputs": [],
   "source": [
    "# Python Default fuctions\n",
    "# print, len"
   ]
  },
  {
   "cell_type": "markdown",
   "metadata": {
    "slideshow": {
     "slide_type": "slide"
    }
   },
   "source": [
    "# Classes/Objects\n",
    "Classes and objects are an effective way to model the behavior of objects within the real world. Objects can have attributes and methods. Atrributes are properties that the mimic those the the real world, methods are actions that the object can take. Classes function as blueprints to create objects, they contain core logic to define the attributes and methods that the objects will need. "
   ]
  },
  {
   "cell_type": "code",
   "execution_count": 9,
   "metadata": {
    "slideshow": {
     "slide_type": "fragment"
    }
   },
   "outputs": [],
   "source": [
    "class Circle():\n",
    "    pi = 3.141594\n",
    "    \n",
    "    def __init__(self, radius):\n",
    "        if radius > 0:\n",
    "            self.radius = radius\n",
    "        else:\n",
    "            radius = 1\n",
    "            \n",
    "    def calc_area(self):\n",
    "        return self.pi * self. radius ** 2\n",
    "    \n",
    "    def increase_size(self, x):\n",
    "        self.radius = self.radius + x"
   ]
  },
  {
   "cell_type": "code",
   "execution_count": 17,
   "metadata": {
    "slideshow": {
     "slide_type": "subslide"
    }
   },
   "outputs": [],
   "source": [
    "# creating an object\n",
    "pizza = Circle(12)"
   ]
  },
  {
   "cell_type": "code",
   "execution_count": 18,
   "metadata": {
    "slideshow": {
     "slide_type": "fragment"
    }
   },
   "outputs": [
    {
     "name": "stdout",
     "output_type": "stream",
     "text": [
      "value used for pi: 3.141594\n"
     ]
    }
   ],
   "source": [
    "# reference an attribute\n",
    "print('value used for pi:',pizza.pi)"
   ]
  },
  {
   "cell_type": "code",
   "execution_count": 19,
   "metadata": {
    "slideshow": {
     "slide_type": "fragment"
    }
   },
   "outputs": [
    {
     "name": "stdout",
     "output_type": "stream",
     "text": [
      "pizza area 452.389536\n"
     ]
    }
   ],
   "source": [
    "# call a method\n",
    "print('pizza area', pizza.calc_area())"
   ]
  },
  {
   "cell_type": "code",
   "execution_count": 20,
   "metadata": {
    "slideshow": {
     "slide_type": "fragment"
    }
   },
   "outputs": [
    {
     "name": "stdout",
     "output_type": "stream",
     "text": [
      "new pizza size: 14\n"
     ]
    }
   ],
   "source": [
    "# call a method with an arguement\n",
    "pizza.increase_size(2)\n",
    "print('new pizza size:',pizza.radius)"
   ]
  },
  {
   "cell_type": "code",
   "execution_count": null,
   "metadata": {},
   "outputs": [],
   "source": []
  }
 ],
 "metadata": {
  "celltoolbar": "Slideshow",
  "kernelspec": {
   "display_name": "Python 3",
   "language": "python",
   "name": "python3"
  },
  "language_info": {
   "codemirror_mode": {
    "name": "ipython",
    "version": 3
   },
   "file_extension": ".py",
   "mimetype": "text/x-python",
   "name": "python",
   "nbconvert_exporter": "python",
   "pygments_lexer": "ipython3",
   "version": "3.6.5"
  }
 },
 "nbformat": 4,
 "nbformat_minor": 2
}
